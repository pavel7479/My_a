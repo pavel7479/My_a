{
  "nbformat": 4,
  "nbformat_minor": 0,
  "metadata": {
    "colab": {
      "provenance": [],
      "toc_visible": true,
      "authorship_tag": "ABX9TyN9Qw0jAE2PUP22Es7inzLN",
      "include_colab_link": true
    },
    "kernelspec": {
      "name": "python3",
      "display_name": "Python 3"
    },
    "language_info": {
      "name": "python"
    }
  },
  "cells": [
    {
      "cell_type": "markdown",
      "metadata": {
        "id": "view-in-github",
        "colab_type": "text"
      },
      "source": [
        "<a href=\"https://colab.research.google.com/github/pavel7479/My_a/blob/main/%D0%A3%D0%B2%D0%B5%D0%BB%D0%B8%D1%87%D0%B5%D0%BD%D0%BD%D0%B0%D1%8F_%D0%91%D0%94.ipynb\" target=\"_parent\"><img src=\"https://colab.research.google.com/assets/colab-badge.svg\" alt=\"Open In Colab\"/></a>"
      ]
    },
    {
      "cell_type": "markdown",
      "source": [
        "# Подготовка БД любого размера"
      ],
      "metadata": {
        "id": "N5xbDmAXVrBA"
      }
    },
    {
      "cell_type": "code",
      "execution_count": null,
      "metadata": {
        "id": "oQ6gfXIpVogk"
      },
      "outputs": [],
      "source": [
        "# @title Загрузка библиотек\n",
        "import os\n",
        "import pandas as pd\n",
        "import numpy as np\n",
        "import collections\n",
        "import tensorflow as tf\n",
        "from keras.layers import Conv2D, MaxPooling2D, LSTM, Dense, Flatten\n"
      ]
    },
    {
      "cell_type": "code",
      "source": [
        "# @title Подготовка объединённой таблицы\n",
        "\n",
        "# Задайте путь к директории, которую нужно просканировать\n",
        "directory_path = '/content/Italiy/'\n",
        "\n",
        "# Список столбцов, которые нужно оставить\n",
        "columns_to_keep = ['Date',\t'HomeTeam',\t'AwayTeam',\t'FTHG',\t'FTAG',\t'FTR',\t'HTHG',\t'HTAG',\t'HTR',\t'HS',\t'AS',\t'HST',\t'AST',\n",
        "                   'HF',\t'AF',\t'HC',\t'AC',\t'HY',\t'AY',\t'HR',\t'AR']\n",
        "\n",
        "# Получите список всех файлов в директории\n",
        "file_list = os.listdir(directory_path)\n",
        "\n",
        "# Создаём объеденённую таблицу\n",
        "df_join = []\n",
        "df_join = pd.DataFrame(df_join)\n",
        "# Переберите все файлы и выполните нужные действия\n",
        "for file_name in file_list:\n",
        "    # Получите полный путь к файлу\n",
        "    file_path = os.path.join(directory_path, file_name)\n",
        "\n",
        "    # Проверяем, является ли файл\n",
        "    if os.path.isfile(file_path):\n",
        "        # читаем файл\n",
        "        data = pd.read_csv(file_path, encoding='cp1251', delimiter=',')\n",
        "        # переводим в DataFrame\n",
        "        df = pd.DataFrame(data)\n",
        "        # переводим в DataFrame\n",
        "        df = pd.DataFrame(data)\n",
        "        # оставляем нужные колонки\n",
        "        df = df.drop(columns=df.columns.difference(columns_to_keep))\n",
        "        # Объединение данных всех таблиц\n",
        "        df_join = pd.concat([df_join, df])\n",
        "    else:\n",
        "        print(f\"{file_name} не является файлом данных и будет пропущен.\")\n",
        "\n",
        "# Вывод объединенной таблицы\n",
        "print(df_join)\n",
        "print(df_join.shape)\n"
      ],
      "metadata": {
        "colab": {
          "base_uri": "https://localhost:8080/"
        },
        "id": "rCYutfzcWHha",
        "outputId": "bf8a5732-bae4-4a13-8213-bb497aca997a"
      },
      "execution_count": null,
      "outputs": [
        {
          "output_type": "stream",
          "name": "stdout",
          "text": [
            ".ipynb_checkpoints не является файлом данных и будет пропущен.\n",
            "         Date    HomeTeam  AwayTeam  FTHG  FTAG FTR  HTHG  HTAG HTR    HS  \\\n",
            "0    25/08/12  Fiorentina   Udinese   2.0   1.0   H   0.0   1.0   A  23.0   \n",
            "1    25/08/12    Juventus     Parma   2.0   0.0   H   0.0   0.0   D  15.0   \n",
            "2    26/08/12    Atalanta     Lazio   0.0   1.0   A   0.0   1.0   A  10.0   \n",
            "3    26/08/12      Chievo   Bologna   2.0   0.0   H   0.0   0.0   D   6.0   \n",
            "4    26/08/12       Genoa  Cagliari   2.0   0.0   H   0.0   0.0   D  15.0   \n",
            "..        ...         ...       ...   ...   ...  ..   ...   ...  ..   ...   \n",
            "375  28/05/17       Inter   Udinese   5.0   2.0   H   3.0   0.0   H  17.0   \n",
            "376  28/05/17     Palermo    Empoli   2.0   1.0   H   0.0   0.0   D  10.0   \n",
            "377  28/05/17        Roma     Genoa   3.0   2.0   H   1.0   1.0   D  24.0   \n",
            "378  28/05/17   Sampdoria    Napoli   2.0   4.0   A   0.0   2.0   A  12.0   \n",
            "379  28/05/17      Torino  Sassuolo   5.0   3.0   H   3.0   2.0   H  16.0   \n",
            "\n",
            "     ...  HST  AST    HF    AF    HC    AC   HY   AY   HR   AR  \n",
            "0    ...  8.0  2.0  12.0  14.0  10.0   0.0  2.0  1.0  0.0  0.0  \n",
            "1    ...  6.0  5.0  12.0  21.0   5.0   8.0  2.0  6.0  0.0  0.0  \n",
            "2    ...  3.0  4.0  14.0  19.0   8.0   5.0  1.0  4.0  0.0  0.0  \n",
            "3    ...  3.0  1.0  17.0  18.0   1.0   1.0  3.0  3.0  0.0  1.0  \n",
            "4    ...  4.0  4.0  19.0  12.0   3.0   6.0  0.0  3.0  0.0  0.0  \n",
            "..   ...  ...  ...   ...   ...   ...   ...  ...  ...  ...  ...  \n",
            "375  ...  6.0  4.0  15.0   1.0   6.0   7.0  2.0  1.0  0.0  0.0  \n",
            "376  ...  5.0  4.0  18.0  16.0   0.0   7.0  3.0  4.0  0.0  0.0  \n",
            "377  ...  7.0  4.0   8.0  14.0   6.0   2.0  2.0  0.0  0.0  0.0  \n",
            "378  ...  2.0  7.0   9.0   8.0   5.0  10.0  1.0  0.0  0.0  0.0  \n",
            "379  ...  9.0  7.0  16.0   6.0   6.0  10.0  2.0  0.0  0.0  0.0  \n",
            "\n",
            "[4185 rows x 21 columns]\n",
            "(4185, 21)\n"
          ]
        }
      ]
    },
    {
      "cell_type": "code",
      "source": [
        "# @title Выявим пропущенные значения и удалим их\n",
        "\n",
        "# выявим пропущенные значения с помощью .isnull() и посчитаем их количество через sum()\n",
        "print(df_join.isnull().sum())\n",
        "# удвление пустых значений\n",
        "df_join.dropna(inplace=True)\n",
        "print(df_join.isnull().sum())"
      ],
      "metadata": {
        "colab": {
          "base_uri": "https://localhost:8080/"
        },
        "cellView": "form",
        "id": "YUfgSh3mfqun",
        "outputId": "d4ec3147-5925-469a-ed91-382d34eb9964"
      },
      "execution_count": null,
      "outputs": [
        {
          "output_type": "stream",
          "name": "stdout",
          "text": [
            "Date        5\n",
            "HomeTeam    5\n",
            "AwayTeam    5\n",
            "FTHG        5\n",
            "FTAG        5\n",
            "FTR         5\n",
            "HTHG        7\n",
            "HTAG        7\n",
            "HTR         7\n",
            "HS          6\n",
            "AS          6\n",
            "HST         6\n",
            "AST         6\n",
            "HF          6\n",
            "AF          6\n",
            "HC          6\n",
            "AC          6\n",
            "HY          7\n",
            "AY          6\n",
            "HR          6\n",
            "AR          6\n",
            "dtype: int64\n",
            "Date        0\n",
            "HomeTeam    0\n",
            "AwayTeam    0\n",
            "FTHG        0\n",
            "FTAG        0\n",
            "FTR         0\n",
            "HTHG        0\n",
            "HTAG        0\n",
            "HTR         0\n",
            "HS          0\n",
            "AS          0\n",
            "HST         0\n",
            "AST         0\n",
            "HF          0\n",
            "AF          0\n",
            "HC          0\n",
            "AC          0\n",
            "HY          0\n",
            "AY          0\n",
            "HR          0\n",
            "AR          0\n",
            "dtype: int64\n"
          ]
        }
      ]
    },
    {
      "cell_type": "code",
      "source": [
        "# @title Удаляем столбез дата т.к. данные идут в порядке увеличения дат\n",
        "\n",
        "df_join = df_join.drop('Date', axis=1)"
      ],
      "metadata": {
        "id": "vUY1yloMha2e"
      },
      "execution_count": null,
      "outputs": []
    },
    {
      "cell_type": "code",
      "source": [
        "# @title Замена значений в столбцах FTR и HTR\n",
        "\n",
        "df_join['FTR'] = df_join['FTR'].replace({'A': 0, 'H': 1, 'D': 1})\n",
        "df_join['HTR'] = df_join['HTR'].replace({'A': 0, 'H': 1, 'D': 1})\n",
        "\n",
        "print(df_join)\n"
      ],
      "metadata": {
        "colab": {
          "base_uri": "https://localhost:8080/"
        },
        "id": "P_CZ8dEFZkhI",
        "outputId": "10739eb3-78bc-4cc2-ec4b-9c3399dcc767"
      },
      "execution_count": null,
      "outputs": [
        {
          "output_type": "stream",
          "name": "stdout",
          "text": [
            "         Date    HomeTeam  AwayTeam  FTHG  FTAG  FTR  HTHG  HTAG  HTR    HS  \\\n",
            "0    25/08/12  Fiorentina   Udinese   2.0   1.0    1   0.0   1.0    0  23.0   \n",
            "1    25/08/12    Juventus     Parma   2.0   0.0    1   0.0   0.0    1  15.0   \n",
            "2    26/08/12    Atalanta     Lazio   0.0   1.0    0   0.0   1.0    0  10.0   \n",
            "3    26/08/12      Chievo   Bologna   2.0   0.0    1   0.0   0.0    1   6.0   \n",
            "4    26/08/12       Genoa  Cagliari   2.0   0.0    1   0.0   0.0    1  15.0   \n",
            "..        ...         ...       ...   ...   ...  ...   ...   ...  ...   ...   \n",
            "375  28/05/17       Inter   Udinese   5.0   2.0    1   3.0   0.0    1  17.0   \n",
            "376  28/05/17     Palermo    Empoli   2.0   1.0    1   0.0   0.0    1  10.0   \n",
            "377  28/05/17        Roma     Genoa   3.0   2.0    1   1.0   1.0    1  24.0   \n",
            "378  28/05/17   Sampdoria    Napoli   2.0   4.0    0   0.0   2.0    0  12.0   \n",
            "379  28/05/17      Torino  Sassuolo   5.0   3.0    1   3.0   2.0    1  16.0   \n",
            "\n",
            "     ...  HST  AST    HF    AF    HC    AC   HY   AY   HR   AR  \n",
            "0    ...  8.0  2.0  12.0  14.0  10.0   0.0  2.0  1.0  0.0  0.0  \n",
            "1    ...  6.0  5.0  12.0  21.0   5.0   8.0  2.0  6.0  0.0  0.0  \n",
            "2    ...  3.0  4.0  14.0  19.0   8.0   5.0  1.0  4.0  0.0  0.0  \n",
            "3    ...  3.0  1.0  17.0  18.0   1.0   1.0  3.0  3.0  0.0  1.0  \n",
            "4    ...  4.0  4.0  19.0  12.0   3.0   6.0  0.0  3.0  0.0  0.0  \n",
            "..   ...  ...  ...   ...   ...   ...   ...  ...  ...  ...  ...  \n",
            "375  ...  6.0  4.0  15.0   1.0   6.0   7.0  2.0  1.0  0.0  0.0  \n",
            "376  ...  5.0  4.0  18.0  16.0   0.0   7.0  3.0  4.0  0.0  0.0  \n",
            "377  ...  7.0  4.0   8.0  14.0   6.0   2.0  2.0  0.0  0.0  0.0  \n",
            "378  ...  2.0  7.0   9.0   8.0   5.0  10.0  1.0  0.0  0.0  0.0  \n",
            "379  ...  9.0  7.0  16.0   6.0   6.0  10.0  2.0  0.0  0.0  0.0  \n",
            "\n",
            "[4177 rows x 21 columns]\n"
          ]
        }
      ]
    },
    {
      "cell_type": "code",
      "source": [
        "# @title Замена названий команд на цифры\n",
        "\n",
        "# Создание множества футбольных комманд\n",
        "set_commands = set()\n",
        "for index, value in enumerate(df_join['HomeTeam']):\n",
        "  set_commands.add(value)\n",
        "set_commands = set(df_join['HomeTeam'].astype(str))\n",
        "set_commands_sorted = sorted(set_commands)\n",
        "\n",
        "print(set_commands_sorted)\n",
        "print(len(set_commands_sorted))\n",
        "\n",
        "# Создание словаря соответствий\n",
        "mapping = {}\n",
        "for i, k in enumerate(set_commands_sorted):\n",
        "  mapping[k] = i\n",
        "print(mapping)\n",
        "print()\n",
        "# Замена значений названий комманд в столбцах с использованием словаря\n",
        "df_join['HomeTeam'] = df_join['HomeTeam'].replace(mapping)\n",
        "df_join['AwayTeam'] = df_join['AwayTeam'].replace(mapping)\n",
        "print(df_join)"
      ],
      "metadata": {
        "colab": {
          "base_uri": "https://localhost:8080/"
        },
        "id": "W0LjMXwngzt9",
        "outputId": "8ce37014-8b2b-42ed-8df8-8ccec0998021"
      },
      "execution_count": null,
      "outputs": [
        {
          "output_type": "stream",
          "name": "stdout",
          "text": [
            "['0', '1', '10', '11', '12', '13', '14', '15', '16', '17', '18', '19', '2', '20', '21', '22', '23', '24', '25', '26', '27', '28', '29', '3', '30', '31', '32', '33', '34', '35', '4', '5', '6', '7', '8', '9']\n",
            "36\n",
            "{'0': 0, '1': 1, '10': 2, '11': 3, '12': 4, '13': 5, '14': 6, '15': 7, '16': 8, '17': 9, '18': 10, '19': 11, '2': 12, '20': 13, '21': 14, '22': 15, '23': 16, '24': 17, '25': 18, '26': 19, '27': 20, '28': 21, '29': 22, '3': 23, '30': 24, '31': 25, '32': 26, '33': 27, '34': 28, '35': 29, '4': 30, '5': 31, '6': 32, '7': 33, '8': 34, '9': 35}\n",
            "\n",
            "         Date  HomeTeam  AwayTeam  FTHG  FTAG  FTR  HTHG  HTAG  HTR    HS  \\\n",
            "0    25/08/12        11        33   2.0   1.0    1   0.0   1.0    0  23.0   \n",
            "1    25/08/12        15        23   2.0   0.0    1   0.0   0.0    1  15.0   \n",
            "2    26/08/12         0        16   0.0   1.0    0   0.0   1.0    0  10.0   \n",
            "3    26/08/12         8         2   2.0   0.0    1   0.0   0.0    1   6.0   \n",
            "4    26/08/12        13         4   2.0   0.0    1   0.0   0.0    1  15.0   \n",
            "..        ...       ...       ...   ...   ...  ...   ...   ...  ...   ...   \n",
            "375  28/05/17        14        33   5.0   2.0    1   3.0   0.0    1  17.0   \n",
            "376  28/05/17        22        10   2.0   1.0    1   0.0   0.0    1  10.0   \n",
            "377  28/05/17        25        13   3.0   2.0    1   1.0   1.0    1  24.0   \n",
            "378  28/05/17        27        20   2.0   4.0    0   0.0   2.0    0  12.0   \n",
            "379  28/05/17        32        28   5.0   3.0    1   3.0   2.0    1  16.0   \n",
            "\n",
            "     ...  HST  AST    HF    AF    HC    AC   HY   AY   HR   AR  \n",
            "0    ...  8.0  2.0  12.0  14.0  10.0   0.0  2.0  1.0  0.0  0.0  \n",
            "1    ...  6.0  5.0  12.0  21.0   5.0   8.0  2.0  6.0  0.0  0.0  \n",
            "2    ...  3.0  4.0  14.0  19.0   8.0   5.0  1.0  4.0  0.0  0.0  \n",
            "3    ...  3.0  1.0  17.0  18.0   1.0   1.0  3.0  3.0  0.0  1.0  \n",
            "4    ...  4.0  4.0  19.0  12.0   3.0   6.0  0.0  3.0  0.0  0.0  \n",
            "..   ...  ...  ...   ...   ...   ...   ...  ...  ...  ...  ...  \n",
            "375  ...  6.0  4.0  15.0   1.0   6.0   7.0  2.0  1.0  0.0  0.0  \n",
            "376  ...  5.0  4.0  18.0  16.0   0.0   7.0  3.0  4.0  0.0  0.0  \n",
            "377  ...  7.0  4.0   8.0  14.0   6.0   2.0  2.0  0.0  0.0  0.0  \n",
            "378  ...  2.0  7.0   9.0   8.0   5.0  10.0  1.0  0.0  0.0  0.0  \n",
            "379  ...  9.0  7.0  16.0   6.0   6.0  10.0  2.0  0.0  0.0  0.0  \n",
            "\n",
            "[4177 rows x 21 columns]\n"
          ]
        }
      ]
    },
    {
      "cell_type": "code",
      "source": [
        "#@title Нормализация\n",
        "\n",
        "from sklearn.preprocessing import MinMaxScaler\n",
        "\n",
        "\n",
        "# Создание копий столбцов, которые будут исключены из нормализации. И сброс их индексов\n",
        "htr_column = df_join['HTR'].copy().reset_index(drop=True)\n",
        "home_team_column = df_join['HomeTeam'].copy().reset_index(drop=True)\n",
        "away_team_column = df_join['AwayTeam'].copy().reset_index(drop=True)\n",
        "\n",
        "# Удаление столбцов, которые не будут нормализованы\n",
        "columns_to_normalize = df_join.drop(['HTR', 'HomeTeam', 'AwayTeam'], axis=1)\n",
        "\n",
        "# Нормализация данных\n",
        "scaler = MinMaxScaler()\n",
        "df_normalized = pd.DataFrame(scaler.fit_transform(columns_to_normalize), columns = columns_to_normalize.columns)\n",
        "\n",
        "# Добавление столбцов обратно к нормализованным данным\n",
        "df_normalized['HTR'] = htr_column\n",
        "df_normalized['HomeTeam'] = home_team_column\n",
        "df_normalized['AwayTeam'] = away_team_column\n",
        "\n",
        "# Вывод нормализованной таблицы\n",
        "print(df_normalized)"
      ],
      "metadata": {
        "colab": {
          "base_uri": "https://localhost:8080/"
        },
        "id": "3AzsCKSLiIkD",
        "outputId": "a5736ca7-2a89-4d28-8613-500264f9510b"
      },
      "execution_count": null,
      "outputs": [
        {
          "output_type": "stream",
          "name": "stdout",
          "text": [
            "          FTHG      FTAG  FTR  HTHG  HTAG        HS        AS       HST  \\\n",
            "0     0.285714  0.142857  1.0   0.0   0.2  0.488889  0.225806  0.444444   \n",
            "1     0.285714  0.000000  1.0   0.0   0.0  0.311111  0.193548  0.333333   \n",
            "2     0.000000  0.142857  0.0   0.0   0.2  0.200000  0.419355  0.166667   \n",
            "3     0.285714  0.000000  1.0   0.0   0.0  0.111111  0.129032  0.166667   \n",
            "4     0.285714  0.000000  1.0   0.0   0.0  0.311111  0.548387  0.222222   \n",
            "...        ...       ...  ...   ...   ...       ...       ...       ...   \n",
            "4172  0.714286  0.285714  1.0   0.6   0.0  0.355556  0.548387  0.333333   \n",
            "4173  0.285714  0.142857  1.0   0.0   0.0  0.200000  0.548387  0.277778   \n",
            "4174  0.428571  0.285714  1.0   0.2   0.2  0.511111  0.419355  0.388889   \n",
            "4175  0.285714  0.571429  0.0   0.0   0.4  0.244444  0.709677  0.111111   \n",
            "4176  0.714286  0.428571  1.0   0.6   0.4  0.333333  0.677419  0.500000   \n",
            "\n",
            "         AST        HF        AF        HC        AC        HY     AY   HR  \\\n",
            "0     0.1250  0.346154  0.419355  0.476190  0.000000  0.285714  0.125  0.0   \n",
            "1     0.3125  0.346154  0.645161  0.238095  0.421053  0.285714  0.750  0.0   \n",
            "2     0.2500  0.423077  0.580645  0.380952  0.263158  0.142857  0.500  0.0   \n",
            "3     0.0625  0.538462  0.548387  0.047619  0.052632  0.428571  0.375  0.0   \n",
            "4     0.2500  0.615385  0.354839  0.142857  0.315789  0.000000  0.375  0.0   \n",
            "...      ...       ...       ...       ...       ...       ...    ...  ...   \n",
            "4172  0.2500  0.461538  0.000000  0.285714  0.368421  0.285714  0.125  0.0   \n",
            "4173  0.2500  0.576923  0.483871  0.000000  0.368421  0.428571  0.500  0.0   \n",
            "4174  0.2500  0.192308  0.419355  0.285714  0.105263  0.285714  0.000  0.0   \n",
            "4175  0.4375  0.230769  0.225806  0.238095  0.526316  0.142857  0.000  0.0   \n",
            "4176  0.4375  0.500000  0.161290  0.285714  0.526316  0.285714  0.000  0.0   \n",
            "\n",
            "            AR  HTR  HomeTeam  AwayTeam  \n",
            "0     0.000000    0        11        33  \n",
            "1     0.000000    1        15        23  \n",
            "2     0.000000    0         0        16  \n",
            "3     0.333333    1         8         2  \n",
            "4     0.000000    1        13         4  \n",
            "...        ...  ...       ...       ...  \n",
            "4172  0.000000    1        14        33  \n",
            "4173  0.000000    1        22        10  \n",
            "4174  0.000000    1        25        13  \n",
            "4175  0.000000    0        27        20  \n",
            "4176  0.000000    1        32        28  \n",
            "\n",
            "[4177 rows x 20 columns]\n"
          ]
        }
      ]
    },
    {
      "cell_type": "code",
      "source": [
        "# @title Приминение one-hot encoding к столбцам HomeTeam\tи AwayTeam т.е. к названиям комманд\n",
        "pd.get_dummies(df_normalized['HomeTeam']).head()\n",
        "pd.get_dummies(df_normalized['AwayTeam']).head()"
      ],
      "metadata": {
        "colab": {
          "base_uri": "https://localhost:8080/",
          "height": 236
        },
        "id": "UVRhjsepkBqh",
        "outputId": "e50eda47-d5e1-431b-b461-3bd88919c4f9"
      },
      "execution_count": null,
      "outputs": [
        {
          "output_type": "execute_result",
          "data": {
            "text/plain": [
              "   0   1   2   3   4   5   6   7   8   9   ...  26  27  28  29  30  31  32  \\\n",
              "0   0   0   0   0   0   0   0   0   0   0  ...   0   0   0   0   0   0   0   \n",
              "1   0   0   0   0   0   0   0   0   0   0  ...   0   0   0   0   0   0   0   \n",
              "2   0   0   0   0   0   0   0   0   0   0  ...   0   0   0   0   0   0   0   \n",
              "3   0   0   1   0   0   0   0   0   0   0  ...   0   0   0   0   0   0   0   \n",
              "4   0   0   0   0   1   0   0   0   0   0  ...   0   0   0   0   0   0   0   \n",
              "\n",
              "   33  34  35  \n",
              "0   1   0   0  \n",
              "1   0   0   0  \n",
              "2   0   0   0  \n",
              "3   0   0   0  \n",
              "4   0   0   0  \n",
              "\n",
              "[5 rows x 36 columns]"
            ],
            "text/html": [
              "\n",
              "\n",
              "  <div id=\"df-cc9cfa7a-18ec-4173-b34b-73b902882da7\">\n",
              "    <div class=\"colab-df-container\">\n",
              "      <div>\n",
              "<style scoped>\n",
              "    .dataframe tbody tr th:only-of-type {\n",
              "        vertical-align: middle;\n",
              "    }\n",
              "\n",
              "    .dataframe tbody tr th {\n",
              "        vertical-align: top;\n",
              "    }\n",
              "\n",
              "    .dataframe thead th {\n",
              "        text-align: right;\n",
              "    }\n",
              "</style>\n",
              "<table border=\"1\" class=\"dataframe\">\n",
              "  <thead>\n",
              "    <tr style=\"text-align: right;\">\n",
              "      <th></th>\n",
              "      <th>0</th>\n",
              "      <th>1</th>\n",
              "      <th>2</th>\n",
              "      <th>3</th>\n",
              "      <th>4</th>\n",
              "      <th>5</th>\n",
              "      <th>6</th>\n",
              "      <th>7</th>\n",
              "      <th>8</th>\n",
              "      <th>9</th>\n",
              "      <th>...</th>\n",
              "      <th>26</th>\n",
              "      <th>27</th>\n",
              "      <th>28</th>\n",
              "      <th>29</th>\n",
              "      <th>30</th>\n",
              "      <th>31</th>\n",
              "      <th>32</th>\n",
              "      <th>33</th>\n",
              "      <th>34</th>\n",
              "      <th>35</th>\n",
              "    </tr>\n",
              "  </thead>\n",
              "  <tbody>\n",
              "    <tr>\n",
              "      <th>0</th>\n",
              "      <td>0</td>\n",
              "      <td>0</td>\n",
              "      <td>0</td>\n",
              "      <td>0</td>\n",
              "      <td>0</td>\n",
              "      <td>0</td>\n",
              "      <td>0</td>\n",
              "      <td>0</td>\n",
              "      <td>0</td>\n",
              "      <td>0</td>\n",
              "      <td>...</td>\n",
              "      <td>0</td>\n",
              "      <td>0</td>\n",
              "      <td>0</td>\n",
              "      <td>0</td>\n",
              "      <td>0</td>\n",
              "      <td>0</td>\n",
              "      <td>0</td>\n",
              "      <td>1</td>\n",
              "      <td>0</td>\n",
              "      <td>0</td>\n",
              "    </tr>\n",
              "    <tr>\n",
              "      <th>1</th>\n",
              "      <td>0</td>\n",
              "      <td>0</td>\n",
              "      <td>0</td>\n",
              "      <td>0</td>\n",
              "      <td>0</td>\n",
              "      <td>0</td>\n",
              "      <td>0</td>\n",
              "      <td>0</td>\n",
              "      <td>0</td>\n",
              "      <td>0</td>\n",
              "      <td>...</td>\n",
              "      <td>0</td>\n",
              "      <td>0</td>\n",
              "      <td>0</td>\n",
              "      <td>0</td>\n",
              "      <td>0</td>\n",
              "      <td>0</td>\n",
              "      <td>0</td>\n",
              "      <td>0</td>\n",
              "      <td>0</td>\n",
              "      <td>0</td>\n",
              "    </tr>\n",
              "    <tr>\n",
              "      <th>2</th>\n",
              "      <td>0</td>\n",
              "      <td>0</td>\n",
              "      <td>0</td>\n",
              "      <td>0</td>\n",
              "      <td>0</td>\n",
              "      <td>0</td>\n",
              "      <td>0</td>\n",
              "      <td>0</td>\n",
              "      <td>0</td>\n",
              "      <td>0</td>\n",
              "      <td>...</td>\n",
              "      <td>0</td>\n",
              "      <td>0</td>\n",
              "      <td>0</td>\n",
              "      <td>0</td>\n",
              "      <td>0</td>\n",
              "      <td>0</td>\n",
              "      <td>0</td>\n",
              "      <td>0</td>\n",
              "      <td>0</td>\n",
              "      <td>0</td>\n",
              "    </tr>\n",
              "    <tr>\n",
              "      <th>3</th>\n",
              "      <td>0</td>\n",
              "      <td>0</td>\n",
              "      <td>1</td>\n",
              "      <td>0</td>\n",
              "      <td>0</td>\n",
              "      <td>0</td>\n",
              "      <td>0</td>\n",
              "      <td>0</td>\n",
              "      <td>0</td>\n",
              "      <td>0</td>\n",
              "      <td>...</td>\n",
              "      <td>0</td>\n",
              "      <td>0</td>\n",
              "      <td>0</td>\n",
              "      <td>0</td>\n",
              "      <td>0</td>\n",
              "      <td>0</td>\n",
              "      <td>0</td>\n",
              "      <td>0</td>\n",
              "      <td>0</td>\n",
              "      <td>0</td>\n",
              "    </tr>\n",
              "    <tr>\n",
              "      <th>4</th>\n",
              "      <td>0</td>\n",
              "      <td>0</td>\n",
              "      <td>0</td>\n",
              "      <td>0</td>\n",
              "      <td>1</td>\n",
              "      <td>0</td>\n",
              "      <td>0</td>\n",
              "      <td>0</td>\n",
              "      <td>0</td>\n",
              "      <td>0</td>\n",
              "      <td>...</td>\n",
              "      <td>0</td>\n",
              "      <td>0</td>\n",
              "      <td>0</td>\n",
              "      <td>0</td>\n",
              "      <td>0</td>\n",
              "      <td>0</td>\n",
              "      <td>0</td>\n",
              "      <td>0</td>\n",
              "      <td>0</td>\n",
              "      <td>0</td>\n",
              "    </tr>\n",
              "  </tbody>\n",
              "</table>\n",
              "<p>5 rows × 36 columns</p>\n",
              "</div>\n",
              "      <button class=\"colab-df-convert\" onclick=\"convertToInteractive('df-cc9cfa7a-18ec-4173-b34b-73b902882da7')\"\n",
              "              title=\"Convert this dataframe to an interactive table.\"\n",
              "              style=\"display:none;\">\n",
              "\n",
              "  <svg xmlns=\"http://www.w3.org/2000/svg\" height=\"24px\"viewBox=\"0 0 24 24\"\n",
              "       width=\"24px\">\n",
              "    <path d=\"M0 0h24v24H0V0z\" fill=\"none\"/>\n",
              "    <path d=\"M18.56 5.44l.94 2.06.94-2.06 2.06-.94-2.06-.94-.94-2.06-.94 2.06-2.06.94zm-11 1L8.5 8.5l.94-2.06 2.06-.94-2.06-.94L8.5 2.5l-.94 2.06-2.06.94zm10 10l.94 2.06.94-2.06 2.06-.94-2.06-.94-.94-2.06-.94 2.06-2.06.94z\"/><path d=\"M17.41 7.96l-1.37-1.37c-.4-.4-.92-.59-1.43-.59-.52 0-1.04.2-1.43.59L10.3 9.45l-7.72 7.72c-.78.78-.78 2.05 0 2.83L4 21.41c.39.39.9.59 1.41.59.51 0 1.02-.2 1.41-.59l7.78-7.78 2.81-2.81c.8-.78.8-2.07 0-2.86zM5.41 20L4 18.59l7.72-7.72 1.47 1.35L5.41 20z\"/>\n",
              "  </svg>\n",
              "      </button>\n",
              "\n",
              "\n",
              "\n",
              "    <div id=\"df-81a2f8fa-5efb-4b97-80d6-a3a6f0028681\">\n",
              "      <button class=\"colab-df-quickchart\" onclick=\"quickchart('df-81a2f8fa-5efb-4b97-80d6-a3a6f0028681')\"\n",
              "              title=\"Suggest charts.\"\n",
              "              style=\"display:none;\">\n",
              "\n",
              "<svg xmlns=\"http://www.w3.org/2000/svg\" height=\"24px\"viewBox=\"0 0 24 24\"\n",
              "     width=\"24px\">\n",
              "    <g>\n",
              "        <path d=\"M19 3H5c-1.1 0-2 .9-2 2v14c0 1.1.9 2 2 2h14c1.1 0 2-.9 2-2V5c0-1.1-.9-2-2-2zM9 17H7v-7h2v7zm4 0h-2V7h2v10zm4 0h-2v-4h2v4z\"/>\n",
              "    </g>\n",
              "</svg>\n",
              "      </button>\n",
              "    </div>\n",
              "\n",
              "<style>\n",
              "  .colab-df-quickchart {\n",
              "    background-color: #E8F0FE;\n",
              "    border: none;\n",
              "    border-radius: 50%;\n",
              "    cursor: pointer;\n",
              "    display: none;\n",
              "    fill: #1967D2;\n",
              "    height: 32px;\n",
              "    padding: 0 0 0 0;\n",
              "    width: 32px;\n",
              "  }\n",
              "\n",
              "  .colab-df-quickchart:hover {\n",
              "    background-color: #E2EBFA;\n",
              "    box-shadow: 0px 1px 2px rgba(60, 64, 67, 0.3), 0px 1px 3px 1px rgba(60, 64, 67, 0.15);\n",
              "    fill: #174EA6;\n",
              "  }\n",
              "\n",
              "  [theme=dark] .colab-df-quickchart {\n",
              "    background-color: #3B4455;\n",
              "    fill: #D2E3FC;\n",
              "  }\n",
              "\n",
              "  [theme=dark] .colab-df-quickchart:hover {\n",
              "    background-color: #434B5C;\n",
              "    box-shadow: 0px 1px 3px 1px rgba(0, 0, 0, 0.15);\n",
              "    filter: drop-shadow(0px 1px 2px rgba(0, 0, 0, 0.3));\n",
              "    fill: #FFFFFF;\n",
              "  }\n",
              "</style>\n",
              "\n",
              "    <script>\n",
              "      async function quickchart(key) {\n",
              "        const containerElement = document.querySelector('#' + key);\n",
              "        const charts = await google.colab.kernel.invokeFunction(\n",
              "            'suggestCharts', [key], {});\n",
              "      }\n",
              "    </script>\n",
              "\n",
              "      <script>\n",
              "\n",
              "function displayQuickchartButton(domScope) {\n",
              "  let quickchartButtonEl =\n",
              "    domScope.querySelector('#df-81a2f8fa-5efb-4b97-80d6-a3a6f0028681 button.colab-df-quickchart');\n",
              "  quickchartButtonEl.style.display =\n",
              "    google.colab.kernel.accessAllowed ? 'block' : 'none';\n",
              "}\n",
              "\n",
              "        displayQuickchartButton(document);\n",
              "      </script>\n",
              "      <style>\n",
              "    .colab-df-container {\n",
              "      display:flex;\n",
              "      flex-wrap:wrap;\n",
              "      gap: 12px;\n",
              "    }\n",
              "\n",
              "    .colab-df-convert {\n",
              "      background-color: #E8F0FE;\n",
              "      border: none;\n",
              "      border-radius: 50%;\n",
              "      cursor: pointer;\n",
              "      display: none;\n",
              "      fill: #1967D2;\n",
              "      height: 32px;\n",
              "      padding: 0 0 0 0;\n",
              "      width: 32px;\n",
              "    }\n",
              "\n",
              "    .colab-df-convert:hover {\n",
              "      background-color: #E2EBFA;\n",
              "      box-shadow: 0px 1px 2px rgba(60, 64, 67, 0.3), 0px 1px 3px 1px rgba(60, 64, 67, 0.15);\n",
              "      fill: #174EA6;\n",
              "    }\n",
              "\n",
              "    [theme=dark] .colab-df-convert {\n",
              "      background-color: #3B4455;\n",
              "      fill: #D2E3FC;\n",
              "    }\n",
              "\n",
              "    [theme=dark] .colab-df-convert:hover {\n",
              "      background-color: #434B5C;\n",
              "      box-shadow: 0px 1px 3px 1px rgba(0, 0, 0, 0.15);\n",
              "      filter: drop-shadow(0px 1px 2px rgba(0, 0, 0, 0.3));\n",
              "      fill: #FFFFFF;\n",
              "    }\n",
              "  </style>\n",
              "\n",
              "      <script>\n",
              "        const buttonEl =\n",
              "          document.querySelector('#df-cc9cfa7a-18ec-4173-b34b-73b902882da7 button.colab-df-convert');\n",
              "        buttonEl.style.display =\n",
              "          google.colab.kernel.accessAllowed ? 'block' : 'none';\n",
              "\n",
              "        async function convertToInteractive(key) {\n",
              "          const element = document.querySelector('#df-cc9cfa7a-18ec-4173-b34b-73b902882da7');\n",
              "          const dataTable =\n",
              "            await google.colab.kernel.invokeFunction('convertToInteractive',\n",
              "                                                     [key], {});\n",
              "          if (!dataTable) return;\n",
              "\n",
              "          const docLinkHtml = 'Like what you see? Visit the ' +\n",
              "            '<a target=\"_blank\" href=https://colab.research.google.com/notebooks/data_table.ipynb>data table notebook</a>'\n",
              "            + ' to learn more about interactive tables.';\n",
              "          element.innerHTML = '';\n",
              "          dataTable['output_type'] = 'display_data';\n",
              "          await google.colab.output.renderOutput(dataTable, element);\n",
              "          const docLink = document.createElement('div');\n",
              "          docLink.innerHTML = docLinkHtml;\n",
              "          element.appendChild(docLink);\n",
              "        }\n",
              "      </script>\n",
              "    </div>\n",
              "  </div>\n"
            ]
          },
          "metadata": {},
          "execution_count": 24
        }
      ]
    },
    {
      "cell_type": "code",
      "source": [
        "# @title Создание тренировочного набора\n",
        "\n",
        "# поместим в X_train все кроме столбца HTR\n",
        "X_train = df_normalized.drop('HTR', axis = 1)\n",
        "\n",
        "# столбец 'HTR' станет нашей целевой переменной (y_train)\n",
        "y_train = df_normalized['HTR']\n",
        "\n",
        "print(X_train.shape)\n",
        "print(y_train.shape)"
      ],
      "metadata": {
        "colab": {
          "base_uri": "https://localhost:8080/"
        },
        "id": "6N1i_rWkkIM-",
        "outputId": "8117e47f-2656-4254-e037-66ef0c759b2a"
      },
      "execution_count": null,
      "outputs": [
        {
          "output_type": "stream",
          "name": "stdout",
          "text": [
            "(4177, 19)\n",
            "(4177,)\n"
          ]
        }
      ]
    },
    {
      "cell_type": "code",
      "source": [
        "# @title Перевод в Numpay массив\n",
        "X_train = np.array(X_train)\n",
        "y_train = np.array(y_train)\n",
        "\n",
        "print(X_train.shape)\n",
        "print(y_train.shape)"
      ],
      "metadata": {
        "colab": {
          "base_uri": "https://localhost:8080/"
        },
        "id": "yCwl9tMAkVyN",
        "outputId": "7121f233-cd26-4be6-e8d3-1a8eb271cc86"
      },
      "execution_count": null,
      "outputs": [
        {
          "output_type": "stream",
          "name": "stdout",
          "text": [
            "(4177, 19)\n",
            "(4177,)\n"
          ]
        }
      ]
    },
    {
      "cell_type": "markdown",
      "source": [
        "# Подготовка тестового набора"
      ],
      "metadata": {
        "id": "4JcEbb_NLrnB"
      }
    },
    {
      "cell_type": "code",
      "source": [
        "# @title Скачивание файла с тестовыми данными\n",
        "\n",
        "test = pd.read_csv(\"test.csv\", encoding = 'cp1251', delimiter=',')\n",
        "\n",
        "# Мой DataFrame\n",
        "test_df = pd.DataFrame(test)  # Код для создания DataFrame\n",
        "\n",
        "\n",
        "  # Список столбцов, которые нужно оставить\n",
        "columns_to_keep = ['Date',\t'HomeTeam',\t'AwayTeam',\t'FTHG',\t'FTAG',\t'FTR',\t'HTHG',\t'HTAG',\t'HTR',\t'HS',\t'AS',\n",
        "                   'HST',\t'AST', 'HF',\t'AF',\t'HC',\t'AC',\t'HY',\t'AY',\t'HR',\t'AR']  # Столбцы которые нужно оставить\n",
        "\n",
        "  # Удаление всех столбцов, кроме указанных\n",
        "test_df = test_df.drop(columns = test_df.columns.difference(columns_to_keep))\n",
        "\n",
        "# Замена значений в столбце 'Столбец1'\n",
        "test_df['FTR'] = test_df['FTR'].replace({'A': 0, 'H': 1, 'D': 1})\n",
        "test_df['HTR'] = test_df['HTR'].replace({'A': 0, 'H': 1, 'D': 1})\n",
        "\n",
        "print(test_df)"
      ],
      "metadata": {
        "id": "br2Nc0KC5R5y"
      },
      "execution_count": null,
      "outputs": []
    },
    {
      "cell_type": "code",
      "source": [
        "# выявим пропущенные значения с помощью .isnull() и посчитаем их количество через sum()\n",
        "test_df.isnull().sum()\n",
        "# удвление пустых значений\n",
        "test_df.dropna(inplace=True)\n",
        "test_df.isnull().sum()"
      ],
      "metadata": {
        "id": "WDiiWpl4NM5Z"
      },
      "execution_count": null,
      "outputs": []
    },
    {
      "cell_type": "code",
      "source": [
        "# @title Создание множества футбольных комманд\n",
        "set_commands = set()\n",
        "for index, value in enumerate(test_df['HomeTeam']):\n",
        "  set_commands.add(value)\n",
        "set_commands = set(test_df['HomeTeam'].astype(str))\n",
        "set_commands_sorted = sorted(set_commands)\n",
        "#set_commands_sorted.remove('nan')\n",
        "print(set_commands_sorted)\n",
        "print(len(set_commands_sorted))\n",
        "\n",
        "# Создание словаря соответствий\n",
        "mapping = {}\n",
        "for i, k in enumerate(set_commands_sorted):\n",
        "  mapping[k] = i\n",
        "print(mapping)\n",
        "\n",
        "# Замена значений названий комманд в столбцах с использованием словаря\n",
        "test_df['HomeTeam'] = test_df['HomeTeam'].replace(mapping)\n",
        "test_df['AwayTeam'] = test_df['AwayTeam'].replace(mapping)\n",
        "print(test_df)\n",
        "\n",
        "# Удаляем столбез дата т.к. данные идут в порядке увеличения дат\n",
        "test_df = test_df.drop('Date', axis=1)\n",
        "test_df"
      ],
      "metadata": {
        "id": "79DAZCguL1a_"
      },
      "execution_count": null,
      "outputs": []
    },
    {
      "cell_type": "code",
      "source": [
        "#@title Нормализация тестовых данных\n",
        "\n",
        "from sklearn.preprocessing import MinMaxScaler\n",
        "# Создание копий столбцов, которые будут исключены из нормализации. И сброс их индексов\n",
        "htr_column = test_df['HTR'].copy().reset_index(drop=True)\n",
        "home_team_column = test_df['HomeTeam'].copy().reset_index(drop=True)\n",
        "away_team_column = test_df['AwayTeam'].copy().reset_index(drop=True)\n",
        "\n",
        "# Удаление столбцов, которые не будут нормализованы\n",
        "columns_to_normalize = test_df.drop(['HTR', 'HomeTeam', 'AwayTeam'], axis=1)\n",
        "\n",
        "# Нормализация данных\n",
        "scaler = MinMaxScaler()\n",
        "test_df_normalized = pd.DataFrame(scaler.fit_transform(columns_to_normalize), columns=columns_to_normalize.columns)\n",
        "\n",
        "# Добавление столбцов обратно к нормализованным данным\n",
        "test_df_normalized['HTR'] = htr_column\n",
        "test_df_normalized['HomeTeam'] = home_team_column\n",
        "test_df_normalized['AwayTeam'] = away_team_column\n",
        "\n",
        "# Вывод нормализованной таблицы\n",
        "print(test_df_normalized)"
      ],
      "metadata": {
        "id": "Ztclz09vL61L"
      },
      "execution_count": null,
      "outputs": []
    },
    {
      "cell_type": "code",
      "source": [
        "# @title Приминение one-hot encoding к столбцам HomeTeam\tи AwayTeam т.е. к названиям комманд\n",
        "\n",
        "pd.get_dummies(test_df_normalized['HomeTeam']).head()\n",
        "pd.get_dummies(test_df_normalized['AwayTeam']).head()"
      ],
      "metadata": {
        "id": "8egSmqW-NDlG"
      },
      "execution_count": null,
      "outputs": []
    },
    {
      "cell_type": "code",
      "source": [
        "#@title Разделение тестовой выборки на признаки (X_test) и целевую переменную (y_test)\n",
        "\n",
        "# поместим в X_test все кроме столбца HTR\n",
        "X_test = test_df_normalized.drop('HTR', axis = 1)\n",
        "\n",
        "# столбец 'HTR' станет нашей целевой переменной (y_test)\n",
        "y_test = test_df_normalized['HTR']\n",
        "\n",
        "print(X_test.shape)\n",
        "print(y_test.shape)"
      ],
      "metadata": {
        "id": "CwIoae7MNHsD"
      },
      "execution_count": null,
      "outputs": []
    },
    {
      "cell_type": "markdown",
      "source": [
        "# Создание нейросети"
      ],
      "metadata": {
        "id": "xc4DbXQa5Ukl"
      }
    },
    {
      "cell_type": "code",
      "source": [
        "# @title Проверка размерности\n",
        "\n",
        "print('X_train:', X_train.shape)\n",
        "print('y_train:', y_train.shape)\n",
        "print()\n",
        "print('X_test:', X_test.shape)\n",
        "print('y_test:', y_test.shape)"
      ],
      "metadata": {
        "id": "tj26nyo5NfrY"
      },
      "execution_count": null,
      "outputs": []
    },
    {
      "cell_type": "code",
      "source": [
        "# @title Перевод в Numpay массив\n",
        "X_train = np.array(X_train)\n",
        "y_train = np.array(y_train)\n",
        "\n",
        "X_test= np.array(X_test)\n",
        "y_test = np.array(y_test)\n",
        "\n",
        "print('X_train:', X_train.shape)\n",
        "print('y_train:', y_train.shape)\n",
        "print()\n",
        "print('X_test:', X_test.shape)\n",
        "print('y_test:', y_test.shape)"
      ],
      "metadata": {
        "id": "hvHqQStnNk1F"
      },
      "execution_count": null,
      "outputs": []
    },
    {
      "cell_type": "code",
      "source": [
        "# @title Нейросеть 1\n",
        "\n",
        "import numpy as np\n",
        "import pandas as pd\n",
        "from sklearn.model_selection import train_test_split\n",
        "from sklearn.preprocessing import MinMaxScaler\n",
        "from tensorflow import keras\n",
        "from tensorflow.keras.models import Sequential\n",
        "from tensorflow.keras.layers import Dense\n",
        "\n",
        "# Create the neural network model\n",
        "model = Sequential()\n",
        "model.add(Dense(300, activation='tanh', input_shape=(X_train.shape[1],)))\n",
        "model.add(Dense(60, activation='sigmoid'))\n",
        "model.add(Dense(40, activation='tanh'))\n",
        "model.add(Dense(60, activation='ReLU'))\n",
        "model.add(Dense(30, activation='tanh'))\n",
        "model.add(Dense(10, activation='sigmoid'))\n",
        "model.add(Dense(3, activation='tanh'))\n",
        "model.add(Dense(1, activation='sigmoid'))\n",
        "\n",
        "# Compile the model\n",
        "model.compile(optimizer='adam', loss='binary_crossentropy', metrics=['accuracy'])\n",
        "\n",
        "# Train the model\n",
        "history = model.fit(X_train, y_train, epochs=25, batch_size=32, validation_split=0.2)\n",
        "\n",
        "# Evaluate the model on the test set\n",
        "loss, accuracy = model.evaluate(X_test, y_test)\n",
        "print(\"Точность на тестовом наборе:\", accuracy)\n"
      ],
      "metadata": {
        "colab": {
          "base_uri": "https://localhost:8080/"
        },
        "id": "np-_UFnukupF",
        "outputId": "59f2bc45-dd52-4e11-e9ad-f062e8035273"
      },
      "execution_count": null,
      "outputs": [
        {
          "output_type": "stream",
          "name": "stdout",
          "text": [
            "Epoch 1/25\n",
            "105/105 [==============================] - 2s 6ms/step - loss: 0.5566 - accuracy: 0.7567 - val_loss: 0.5624 - val_accuracy: 0.7488\n",
            "Epoch 2/25\n",
            "105/105 [==============================] - 0s 4ms/step - loss: 0.5039 - accuracy: 0.7761 - val_loss: 0.4614 - val_accuracy: 0.7895\n",
            "Epoch 3/25\n",
            "105/105 [==============================] - 0s 4ms/step - loss: 0.4045 - accuracy: 0.8360 - val_loss: 0.4011 - val_accuracy: 0.8014\n",
            "Epoch 4/25\n",
            "105/105 [==============================] - 0s 4ms/step - loss: 0.3172 - accuracy: 0.8746 - val_loss: 0.2785 - val_accuracy: 0.9091\n",
            "Epoch 5/25\n",
            "105/105 [==============================] - 1s 6ms/step - loss: 0.2028 - accuracy: 0.9470 - val_loss: 0.1629 - val_accuracy: 0.9593\n",
            "Epoch 6/25\n",
            "105/105 [==============================] - 1s 5ms/step - loss: 0.0974 - accuracy: 0.9892 - val_loss: 0.0912 - val_accuracy: 0.9880\n",
            "Epoch 7/25\n",
            "105/105 [==============================] - 1s 6ms/step - loss: 0.0634 - accuracy: 0.9961 - val_loss: 0.0473 - val_accuracy: 1.0000\n",
            "Epoch 8/25\n",
            "105/105 [==============================] - 1s 6ms/step - loss: 0.0411 - accuracy: 1.0000 - val_loss: 0.0367 - val_accuracy: 1.0000\n",
            "Epoch 9/25\n",
            "105/105 [==============================] - 1s 5ms/step - loss: 0.0327 - accuracy: 1.0000 - val_loss: 0.0297 - val_accuracy: 1.0000\n",
            "Epoch 10/25\n",
            "105/105 [==============================] - 0s 4ms/step - loss: 0.0269 - accuracy: 1.0000 - val_loss: 0.0247 - val_accuracy: 1.0000\n",
            "Epoch 11/25\n",
            "105/105 [==============================] - 0s 4ms/step - loss: 0.0226 - accuracy: 1.0000 - val_loss: 0.0210 - val_accuracy: 1.0000\n",
            "Epoch 12/25\n",
            "105/105 [==============================] - 0s 4ms/step - loss: 0.0193 - accuracy: 1.0000 - val_loss: 0.0180 - val_accuracy: 1.0000\n",
            "Epoch 13/25\n",
            "105/105 [==============================] - 0s 4ms/step - loss: 0.0167 - accuracy: 1.0000 - val_loss: 0.0157 - val_accuracy: 1.0000\n",
            "Epoch 14/25\n",
            "105/105 [==============================] - 0s 4ms/step - loss: 0.0146 - accuracy: 1.0000 - val_loss: 0.0138 - val_accuracy: 1.0000\n",
            "Epoch 15/25\n",
            "105/105 [==============================] - 0s 3ms/step - loss: 0.0129 - accuracy: 1.0000 - val_loss: 0.0123 - val_accuracy: 1.0000\n",
            "Epoch 16/25\n",
            "105/105 [==============================] - 0s 4ms/step - loss: 0.0115 - accuracy: 1.0000 - val_loss: 0.0110 - val_accuracy: 1.0000\n",
            "Epoch 17/25\n",
            "105/105 [==============================] - 0s 4ms/step - loss: 0.0103 - accuracy: 1.0000 - val_loss: 0.0098 - val_accuracy: 1.0000\n",
            "Epoch 18/25\n",
            "105/105 [==============================] - 0s 3ms/step - loss: 0.0093 - accuracy: 1.0000 - val_loss: 0.0089 - val_accuracy: 1.0000\n",
            "Epoch 19/25\n",
            "105/105 [==============================] - 0s 3ms/step - loss: 0.0084 - accuracy: 1.0000 - val_loss: 0.0081 - val_accuracy: 1.0000\n",
            "Epoch 20/25\n",
            "105/105 [==============================] - 0s 4ms/step - loss: 0.0076 - accuracy: 1.0000 - val_loss: 0.0073 - val_accuracy: 1.0000\n",
            "Epoch 21/25\n",
            "105/105 [==============================] - 0s 4ms/step - loss: 0.0070 - accuracy: 1.0000 - val_loss: 0.0067 - val_accuracy: 1.0000\n",
            "Epoch 22/25\n",
            "105/105 [==============================] - 0s 4ms/step - loss: 0.0064 - accuracy: 1.0000 - val_loss: 0.0061 - val_accuracy: 1.0000\n",
            "Epoch 23/25\n",
            "105/105 [==============================] - 0s 3ms/step - loss: 0.0058 - accuracy: 1.0000 - val_loss: 0.0056 - val_accuracy: 1.0000\n",
            "Epoch 24/25\n",
            "105/105 [==============================] - 0s 4ms/step - loss: 0.0054 - accuracy: 1.0000 - val_loss: 0.0052 - val_accuracy: 1.0000\n",
            "Epoch 25/25\n",
            "105/105 [==============================] - 0s 4ms/step - loss: 0.0050 - accuracy: 1.0000 - val_loss: 0.0048 - val_accuracy: 1.0000\n"
          ]
        }
      ]
    },
    {
      "cell_type": "code",
      "source": [
        "# @title Вывод графиков\n",
        "\n",
        "import matplotlib.pyplot as plt\n",
        "\n",
        "# График функции потерь\n",
        "loss = history.history['loss']\n",
        "val_loss = history.history['val_loss']\n",
        "epochs = range(1, len(loss) + 1)\n",
        "\n",
        "plt.plot(epochs, loss, 'b', label='Training Loss')\n",
        "plt.plot(epochs, val_loss, 'r', label='Validation Loss')\n",
        "plt.title('Training and Validation Loss')\n",
        "plt.xlabel('Epochs')\n",
        "plt.ylabel('Loss')\n",
        "plt.legend()\n",
        "plt.show()\n",
        "\n",
        "# График точности\n",
        "accuracy = history.history['accuracy']\n",
        "val_accuracy = history.history['val_accuracy']\n",
        "\n",
        "plt.plot(epochs, accuracy, 'b', label='Training Accuracy')\n",
        "plt.plot(epochs, val_accuracy, 'r', label='Validation Accuracy')\n",
        "plt.title('Training and Validation Accuracy')\n",
        "plt.xlabel('Epochs')\n",
        "plt.ylabel('Accuracy')\n",
        "plt.legend()\n",
        "plt.show()"
      ],
      "metadata": {
        "colab": {
          "base_uri": "https://localhost:8080/",
          "height": 927
        },
        "cellView": "form",
        "id": "KSa2LAyElAnC",
        "outputId": "df9f9b77-445e-4a5e-857a-0bbd91227d7d"
      },
      "execution_count": null,
      "outputs": [
        {
          "output_type": "display_data",
          "data": {
            "text/plain": [
              "<Figure size 640x480 with 1 Axes>"
            ],
            "image/png": "[encoded data removed]"
          },
          "metadata": {}
        },
        {
          "output_type": "display_data",
          "data": {
            "text/plain": [
              "<Figure size 640x480 with 1 Axes>"
            ],
            "image/png": "[encoded data removed]"
          },
          "metadata": {}
        }
      ]
    }
  ]
}